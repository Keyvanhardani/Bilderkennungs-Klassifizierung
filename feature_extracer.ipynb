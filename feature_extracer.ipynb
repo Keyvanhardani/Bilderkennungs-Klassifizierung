{
 "cells": [
  {
   "cell_type": "code",
   "execution_count": 1,
   "id": "bac5adee",
   "metadata": {},
   "outputs": [],
   "source": [
    "from tensorflow.keras.preprocessing import image\n",
    "from tensorflow.keras.applications.vgg16 import VGG16, preprocess_input\n",
    "from tensorflow.keras.models import Model\n",
    "import numpy as np"
   ]
  },
  {
   "cell_type": "code",
   "execution_count": 2,
   "id": "e92aff51",
   "metadata": {},
   "outputs": [],
   "source": [
    "# Get the image as input and return as deep feature\n",
    "class FeatureExtracer:\n",
    "    def __init__(self):\n",
    "        base_model = VGG16(weights=\"imagenet\")\n",
    "        self.model = Model(inputs=base_model.input, outputs=base_model.get_layer(\"fc1\").output)\n",
    "\n",
    "   ## def extract(self, img):\n",
    "   ##     return None\n",
    "    \n",
    "    def extract(self, img):\n",
    "        img = img.resize((224, 224)).convert(\"RGB\") # RGB should be for Python\n",
    "        x = image.img_to_array(img) # to np.array\n",
    "        x = np.expand_dims(x, axis=0) # (H, W, C) -> (1, H, W, C)\n",
    "        x = preprocess_input(x) # Subtract avg pixel value\n",
    "        feature = self.model.predict(x)[0] # (1, 4096) -> (4096)\n",
    "        return feature / np.linalg.norm(feature) # Normalize"
   ]
  },
  {
   "cell_type": "code",
   "execution_count": null,
   "id": "5c2832d0",
   "metadata": {},
   "outputs": [],
   "source": []
  }
 ],
 "metadata": {
  "kernelspec": {
   "display_name": "Python 3",
   "language": "python",
   "name": "python3"
  },
  "language_info": {
   "codemirror_mode": {
    "name": "ipython",
    "version": 3
   },
   "file_extension": ".py",
   "mimetype": "text/x-python",
   "name": "python",
   "nbconvert_exporter": "python",
   "pygments_lexer": "ipython3",
   "version": "3.8.8"
  }
 },
 "nbformat": 4,
 "nbformat_minor": 5
}
