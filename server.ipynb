{
 "cells": [
  {
   "cell_type": "code",
   "execution_count": 1,
   "id": "c9ca3470",
   "metadata": {},
   "outputs": [],
   "source": [
    "import numpy as np\n",
    "from PIL import Image\n",
    "from datetime import datetime\n",
    "from flask import Flask, request, render_template\n",
    "from pathlib import Path\n",
    "%run feature_extracer.ipynb import FeatureExtracer # Adding Jupyter Notebook file as class  \n",
    " \n",
    "# from feature_extracer import FeatureExtracter"
   ]
  },
  {
   "cell_type": "code",
   "execution_count": null,
   "id": "cf4f863b",
   "metadata": {},
   "outputs": [
    {
     "name": "stdout",
     "output_type": "stream",
     "text": [
      " * Serving Flask app \"__main__\" (lazy loading)\n",
      " * Environment: production\n",
      "   WARNING: This is a development server. Do not use it in a production deployment.\n",
      "   Use a production WSGI server instead.\n",
      " * Debug mode: off\n"
     ]
    },
    {
     "name": "stderr",
     "output_type": "stream",
     "text": [
      " * Running on http://127.0.0.1:5000/ (Press CTRL+C to quit)\n",
      "127.0.0.1 - - [05/Dec/2021 15:04:08] \"\u001b[37mGET / HTTP/1.1\u001b[0m\" 200 -\n",
      "[2021-12-05 15:04:37,267] ERROR in app: Exception on / [POST]\n",
      "Traceback (most recent call last):\n",
      "  File \"C:\\Users\\Keyvan.Hardani\\Anaconda3\\lib\\site-packages\\flask\\app.py\", line 2447, in wsgi_app\n",
      "    response = self.full_dispatch_request()\n",
      "  File \"C:\\Users\\Keyvan.Hardani\\Anaconda3\\lib\\site-packages\\flask\\app.py\", line 1952, in full_dispatch_request\n",
      "    rv = self.handle_user_exception(e)\n",
      "  File \"C:\\Users\\Keyvan.Hardani\\Anaconda3\\lib\\site-packages\\flask\\app.py\", line 1821, in handle_user_exception\n",
      "    reraise(exc_type, exc_value, tb)\n",
      "  File \"C:\\Users\\Keyvan.Hardani\\Anaconda3\\lib\\site-packages\\flask\\_compat.py\", line 39, in reraise\n",
      "    raise value\n",
      "  File \"C:\\Users\\Keyvan.Hardani\\Anaconda3\\lib\\site-packages\\flask\\app.py\", line 1950, in full_dispatch_request\n",
      "    rv = self.dispatch_request()\n",
      "  File \"C:\\Users\\Keyvan.Hardani\\Anaconda3\\lib\\site-packages\\flask\\app.py\", line 1936, in dispatch_request\n",
      "    return self.view_functions[rule.endpoint](**req.view_args)\n",
      "  File \"<ipython-input-6-c91848d62e4c>\", line 26, in index\n",
      "    dists = np.linalg.norm(features - query, axis=1)\n",
      "NameError: name 'query' is not defined\n",
      "127.0.0.1 - - [05/Dec/2021 15:04:37] \"\u001b[35m\u001b[1mPOST / HTTP/1.1\u001b[0m\" 500 -\n",
      "127.0.0.1 - - [05/Dec/2021 15:04:43] \"\u001b[37mGET / HTTP/1.1\u001b[0m\" 200 -\n",
      "127.0.0.1 - - [05/Dec/2021 15:05:37] \"\u001b[37mGET / HTTP/1.1\u001b[0m\" 200 -\n",
      "[2021-12-05 15:06:22,220] ERROR in app: Exception on / [POST]\n",
      "Traceback (most recent call last):\n",
      "  File \"C:\\Users\\Keyvan.Hardani\\Anaconda3\\lib\\site-packages\\flask\\app.py\", line 2447, in wsgi_app\n",
      "    response = self.full_dispatch_request()\n",
      "  File \"C:\\Users\\Keyvan.Hardani\\Anaconda3\\lib\\site-packages\\flask\\app.py\", line 1952, in full_dispatch_request\n",
      "    rv = self.handle_user_exception(e)\n",
      "  File \"C:\\Users\\Keyvan.Hardani\\Anaconda3\\lib\\site-packages\\flask\\app.py\", line 1821, in handle_user_exception\n",
      "    reraise(exc_type, exc_value, tb)\n",
      "  File \"C:\\Users\\Keyvan.Hardani\\Anaconda3\\lib\\site-packages\\flask\\_compat.py\", line 39, in reraise\n",
      "    raise value\n",
      "  File \"C:\\Users\\Keyvan.Hardani\\Anaconda3\\lib\\site-packages\\flask\\app.py\", line 1950, in full_dispatch_request\n",
      "    rv = self.dispatch_request()\n",
      "  File \"C:\\Users\\Keyvan.Hardani\\Anaconda3\\lib\\site-packages\\flask\\app.py\", line 1936, in dispatch_request\n",
      "    return self.view_functions[rule.endpoint](**req.view_args)\n",
      "  File \"<ipython-input-6-c91848d62e4c>\", line 26, in index\n",
      "    dists = np.linalg.norm(features - query, axis=1)\n",
      "NameError: name 'query' is not defined\n",
      "127.0.0.1 - - [05/Dec/2021 15:06:22] \"\u001b[35m\u001b[1mPOST / HTTP/1.1\u001b[0m\" 500 -\n"
     ]
    }
   ],
   "source": [
    "app = Flask(__name__)\n",
    "\n",
    "fe = FeatureExtracer()\n",
    "features = []\n",
    "img_paths = []\n",
    "for feature_path in Path(\"./assets/feature\").glob(\"*.npy\"):\n",
    "    features.append(np.load(feature_path))\n",
    "    img_paths.append(Path(\"./assets/img\") / (feature_path.stem +  \".jpg\"))\n",
    "features = np.array(features)\n",
    "\n",
    "@app.route(\"/\", methods=[\"GET\", \"POST\"])\n",
    "def index():\n",
    "    #return \"Server is running!\"\n",
    "    #return render_template(\"index.html\")\n",
    "    if request.method == \"POST\":\n",
    "        \n",
    "        # Get image as file\n",
    "        file = request.files[\"query_img\"]\n",
    "        #save query image\n",
    "        img = Image.open(file.stream) # PIL image\n",
    "        upload_img_path = \"assets/upload/\" + datetime.now().isoformat().replace(\":\", \".\") + \"_\" +  file.filename\n",
    "        img.save(upload_img_path)\n",
    "        \n",
    "        # Run our search \n",
    "        guery = fe.extract(img)\n",
    "        dists = np.linalg.norm(features - query, axis=1)\n",
    "        ids = np.argsort(dists)[:30]\n",
    "        scores = [(dists[id], img_paths[id]) for id in ids]\n",
    "        \n",
    "        print(scores)\n",
    "        \n",
    "        return render_template(\"index.html\", query_path=upload_img_path)\n",
    "    else:\n",
    "        return render_template(\"index.html\")\n",
    "\n",
    "if __name__ == \"__main__\":\n",
    "    app.run()"
   ]
  },
  {
   "cell_type": "code",
   "execution_count": null,
   "id": "e00dce82",
   "metadata": {},
   "outputs": [],
   "source": []
  },
  {
   "cell_type": "code",
   "execution_count": null,
   "id": "54978978",
   "metadata": {},
   "outputs": [],
   "source": []
  }
 ],
 "metadata": {
  "kernelspec": {
   "display_name": "Python 3",
   "language": "python",
   "name": "python3"
  },
  "language_info": {
   "codemirror_mode": {
    "name": "ipython",
    "version": 3
   },
   "file_extension": ".py",
   "mimetype": "text/x-python",
   "name": "python",
   "nbconvert_exporter": "python",
   "pygments_lexer": "ipython3",
   "version": "3.8.8"
  }
 },
 "nbformat": 4,
 "nbformat_minor": 5
}
