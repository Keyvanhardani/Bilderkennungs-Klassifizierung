{
 "cells": [
  {
   "cell_type": "code",
   "execution_count": 25,
   "id": "0d538967",
   "metadata": {},
   "outputs": [],
   "source": [
    "from PIL import Image\n",
    "from pathlib import Path\n",
    "import numpy as np"
   ]
  },
  {
   "cell_type": "code",
   "execution_count": 27,
   "id": "a3caaa29",
   "metadata": {},
   "outputs": [
    {
     "name": "stdout",
     "output_type": "stream",
     "text": [
      "assets\\img\\image_0001.jpg\n",
      "assets\\feature\\image_0001.npy\n",
      "assets\\img\\image_0002.jpg\n",
      "assets\\feature\\image_0002.npy\n",
      "assets\\img\\image_0003.jpg\n",
      "assets\\feature\\image_0003.npy\n",
      "assets\\img\\image_0004.jpg\n",
      "assets\\feature\\image_0004.npy\n",
      "assets\\img\\image_0005.jpg\n",
      "assets\\feature\\image_0005.npy\n",
      "assets\\img\\image_0006.jpg\n",
      "assets\\feature\\image_0006.npy\n",
      "assets\\img\\image_0007.jpg\n",
      "assets\\feature\\image_0007.npy\n",
      "assets\\img\\image_0008.jpg\n",
      "assets\\feature\\image_0008.npy\n",
      "assets\\img\\image_0009.jpg\n",
      "assets\\feature\\image_0009.npy\n",
      "assets\\img\\image_0010.jpg\n",
      "assets\\feature\\image_0010.npy\n",
      "assets\\img\\image_0011.jpg\n",
      "assets\\feature\\image_0011.npy\n",
      "assets\\img\\image_0012.jpg\n",
      "assets\\feature\\image_0012.npy\n",
      "assets\\img\\image_0013.jpg\n",
      "assets\\feature\\image_0013.npy\n"
     ]
    }
   ],
   "source": [
    "# Adding feature extractor class\n",
    "#from feature_extracer import FeatureExtracer\n",
    "%run feature_extracer.ipynb import FeatureExtracter # Adding Jupyter Notebook file  \n",
    "\n",
    "# Read the images from Path\n",
    "if __name__ == \"__main__\":\n",
    "    fe = FeatureExtracer()\n",
    "    \n",
    "    for img_path in sorted(Path(\"./assets/img\").glob(\"*.jpg\")):\n",
    "        print(img_path)\n",
    "    \n",
    "        # set feature path and convert the images to .npy and replace them into feature folder\n",
    "        # extrac a the deep feature\n",
    "        feature = fe.extract(img=Image.open(img_path))\n",
    "        #print(type(feature), feature.shape)\n",
    "        \n",
    "        feature_path = Path(\"./assets/feature\") / (img_path.stem + \".npy\")\n",
    "        print(feature_path)\n",
    "\n",
    "        # Save the feature\n",
    "        np.save(feature_path, feature)"
   ]
  },
  {
   "cell_type": "code",
   "execution_count": null,
   "id": "518068d7",
   "metadata": {},
   "outputs": [],
   "source": []
  }
 ],
 "metadata": {
  "kernelspec": {
   "display_name": "Python 3",
   "language": "python",
   "name": "python3"
  },
  "language_info": {
   "codemirror_mode": {
    "name": "ipython",
    "version": 3
   },
   "file_extension": ".py",
   "mimetype": "text/x-python",
   "name": "python",
   "nbconvert_exporter": "python",
   "pygments_lexer": "ipython3",
   "version": "3.8.8"
  }
 },
 "nbformat": 4,
 "nbformat_minor": 5
}
